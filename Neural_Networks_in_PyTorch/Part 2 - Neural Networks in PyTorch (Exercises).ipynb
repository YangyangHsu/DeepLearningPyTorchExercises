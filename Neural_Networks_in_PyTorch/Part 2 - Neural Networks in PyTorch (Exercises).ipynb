{
 "cells": [
  {
   "cell_type": "markdown",
   "metadata": {},
   "source": [
    "# Neural networks with PyTorch\n",
    "\n",
    "Deep learning networks tend to be massive with dozens or hundreds of layers, that's where the term \"deep\" comes from. You can build one of these deep networks using only weight matrices as we did in the previous notebook, but in general it's very cumbersome and difficult to implement. PyTorch has a nice module `nn` that provides a nice way to efficiently build large neural networks."
   ]
  },
  {
   "cell_type": "code",
   "execution_count": 6,
   "metadata": {},
   "outputs": [],
   "source": [
    "# Import necessary packages\n",
    "\n",
    "%matplotlib inline\n",
    "%config InlineBackend.figure_format = 'retina'\n",
    "\n",
    "import numpy as np\n",
    "import torch\n",
    "\n",
    "import helper\n",
    "\n",
    "import matplotlib.pyplot as plt"
   ]
  },
  {
   "cell_type": "markdown",
   "metadata": {},
   "source": [
    "\n",
    "Now we're going to build a larger network that can solve a (formerly) difficult problem, identifying text in an image. Here we'll use the MNIST dataset which consists of greyscale handwritten digits. Each image is 28x28 pixels, you can see a sample below\n",
    "\n",
    "<img src='assets/mnist.png'>\n",
    "\n",
    "Our goal is to build a neural network that can take one of these images and predict the digit in the image.\n",
    "\n",
    "First up, we need to get our dataset. This is provided through the `torchvision` package. The code below will download the MNIST dataset, then create training and test datasets for us. Don't worry too much about the details here, you'll learn more about this later."
   ]
  },
  {
   "cell_type": "code",
   "execution_count": 7,
   "metadata": {},
   "outputs": [
    {
     "name": "stdout",
     "output_type": "stream",
     "text": [
      "Downloading http://yann.lecun.com/exdb/mnist/train-images-idx3-ubyte.gz\n",
      "Downloading http://yann.lecun.com/exdb/mnist/train-labels-idx1-ubyte.gz\n",
      "Downloading http://yann.lecun.com/exdb/mnist/t10k-images-idx3-ubyte.gz\n",
      "Downloading http://yann.lecun.com/exdb/mnist/t10k-labels-idx1-ubyte.gz\n",
      "Processing...\n",
      "Done!\n"
     ]
    }
   ],
   "source": [
    "### Run this cell\n",
    "\n",
    "from torchvision import datasets, transforms\n",
    "\n",
    "# Define a transform to normalize the data\n",
    "transform = transforms.Compose([transforms.ToTensor(),\n",
    "                              transforms.Normalize((0.5,), (0.5,)),\n",
    "                              ])\n",
    "\n",
    "# Download and load the training data\n",
    "trainset = datasets.MNIST('~/.pytorch/MNIST_data/', download=True, train=True, transform=transform)\n",
    "trainloader = torch.utils.data.DataLoader(trainset, batch_size=64, shuffle=True)"
   ]
  },
  {
   "cell_type": "markdown",
   "metadata": {},
   "source": [
    "We have the training data loaded into `trainloader` and we make that an iterator with `iter(trainloader)`. Later, we'll use this to loop through the dataset for training, like\n",
    "\n",
    "```python\n",
    "for image, label in trainloader:\n",
    "    ## do things with images and labels\n",
    "```\n",
    "\n",
    "You'll notice I created the `trainloader` with a batch size of 64, and `shuffle=True`. The batch size is the number of images we get in one iteration from the data loader and pass through our network, often called a *batch*. And `shuffle=True` tells it to shuffle the dataset every time we start going through the data loader again. But here I'm just grabbing the first batch so we can check out the data. We can see below that `images` is just a tensor with size `(64, 1, 28, 28)`. So, 64 images per batch, 1 color channel, and 28x28 images."
   ]
  },
  {
   "cell_type": "code",
   "execution_count": 8,
   "metadata": {},
   "outputs": [
    {
     "name": "stdout",
     "output_type": "stream",
     "text": [
      "<class 'torch.Tensor'>\n",
      "torch.Size([64, 1, 28, 28])\n",
      "torch.Size([64])\n"
     ]
    }
   ],
   "source": [
    "dataiter = iter(trainloader)\n",
    "images, labels = dataiter.next()\n",
    "print(type(images))\n",
    "print(images.shape)\n",
    "print(labels.shape)"
   ]
  },
  {
   "cell_type": "markdown",
   "metadata": {},
   "source": [
    "This is what one of the images looks like. "
   ]
  },
  {
   "cell_type": "code",
   "execution_count": 9,
   "metadata": {},
   "outputs": [
    {
     "data": {
      "image/png": "[encoded data removed]",
      "text/plain": [
       "<matplotlib.figure.Figure at 0x7f30f2a2f550>"
      ]
     },
     "metadata": {
      "image/png": {
       "height": 250,
       "width": 253
      },
      "needs_background": "light"
     },
     "output_type": "display_data"
    }
   ],
   "source": [
    "plt.imshow(images[1].numpy().squeeze(), cmap='Greys_r');"
   ]
  },
  {
   "cell_type": "markdown",
   "metadata": {},
   "source": [
    "First, let's try to build a simple network for this dataset using weight matrices and matrix multiplications. Then, we'll see how to do it using PyTorch's `nn` module which provides a much more convenient and powerful method for defining network architectures.\n",
    "\n",
    "The networks you've seen so far are called *fully-connected* or *dense* networks. Each unit in one layer is connected to each unit in the next layer. In fully-connected networks, the input to each layer must be a one-dimensional vector (which can be stacked into a 2D tensor as a batch of multiple examples). However, our images are 28x28 2D tensors, so we need to convert them into 1D vectors. Thinking about sizes, we need to convert the batch of images with shape `(64, 1, 28, 28)` to a have a shape of `(64, 784)`, 784 is 28 times 28. This is typically called *flattening*, we flattened the 2D images into 1D vectors.\n",
    "\n",
    "Previously you built a network with one output unit. Here we need 10 output units, one for each digit. We want our network to predict the digit shown in an image, so what we'll do is calculate probabilities that the image is of any one digit or class. This ends up being a discrete probability distribution over the classes (digits) that tells us the most likely class for the image. That means we need 10 output units for the 10 classes (digits). We'll see how to convert the network output into a probability distribution next.\n",
    "\n",
    "> **Exercise:** Flatten the batch of images `images`. Then build a multi-layer network with 784 input units, 256 hidden units, and 10 output units using random tensors for the weights and biases. For now, use a sigmoid activation for the hidden layer. Leave the output layer without an activation, we'll add one that gives us a probability distribution next."
   ]
  },
  {
   "cell_type": "code",
   "execution_count": 10,
   "metadata": {},
   "outputs": [
    {
     "name": "stdout",
     "output_type": "stream",
     "text": [
      "tensor([[ -5.7753,   0.0358,   0.0893,   0.6059, -15.5532,   3.7543,\n",
      "         -12.0621,  -2.1952,   0.0207,  -2.3331],\n",
      "        [  5.0143,   5.9972,   3.8044,  -8.9556, -12.3685,  -1.3554,\n",
      "          -8.2828,  -2.5162,  -1.3827,   9.4998],\n",
      "        [-21.3812,  11.3541,  -2.7940,  -2.7440, -12.3729,  15.1587,\n",
      "         -15.0735,  -4.0154,  -3.1162,   1.2982],\n",
      "        [ -3.7520,   3.0103,  -2.3134,  -0.7754, -13.3347,   4.9216,\n",
      "         -14.5837,  -7.7135, -11.2562,  12.3117],\n",
      "        [ -7.8515,   9.8814,   3.9093,   1.4713, -10.9873,   0.5355,\n",
      "         -14.6182,  -9.1273,  -9.4487,   1.2523],\n",
      "        [ -4.9390,   8.7359,   7.4488, -10.3769, -10.5480,   3.0782,\n",
      "         -15.0698,  -3.3236,  -3.9292,  -0.0821],\n",
      "        [  3.7550,   4.1320,   7.2271,  -6.0431, -10.0962,  -8.1001,\n",
      "         -16.5995, -15.5635,  -9.0582,  10.8797],\n",
      "        [ -5.5808,  -4.2121,  -1.4958,  -7.4576, -11.3754,  -2.4073,\n",
      "         -12.2183,  -9.0195,  -6.0532,   2.9770],\n",
      "        [ -3.6491,   4.9093,   5.7800,   2.2739,  -1.8253,  -0.5683,\n",
      "         -17.4596,  -8.7996,  -8.8201,   0.2784],\n",
      "        [ -0.9489,   4.2639,   0.3251,   2.1463, -19.0388,  -1.6837,\n",
      "         -16.4146,  -3.4172,   0.3357,   0.9293],\n",
      "        [ -7.7398,   4.8940,  11.0181,  -4.6407,  -8.2281,   2.1471,\n",
      "         -12.4878,  -6.4914,  -6.1652,   0.2569],\n",
      "        [-16.0221,   6.3292,  -9.1052,   9.3798, -15.3538,   4.1967,\n",
      "         -15.9092,  -6.4341,  -7.9229,   9.8146],\n",
      "        [ -0.6968,   2.5259,   9.3243,  -6.0947, -12.6684,  -3.5564,\n",
      "          -7.2194,  -5.4277, -11.9366,   0.0553],\n",
      "        [ -4.9884,   4.9877,   8.1403,  -9.0896, -12.8070,   7.1241,\n",
      "          -9.4846,  -6.1483, -17.6985,   6.5700],\n",
      "        [ -9.7762,  10.4557,   8.8744,  -7.6957, -11.7726,   0.1874,\n",
      "         -18.8491, -11.6663,  -9.3904,   7.7650],\n",
      "        [ -6.1326,   8.2964,  -4.8263,   4.1121, -17.8099,   2.9768,\n",
      "         -10.8555,  -2.0528,  -6.2886,   9.8790],\n",
      "        [ -9.4539,   4.3579,  -0.0856,  -4.0787,  -5.6641,   3.0163,\n",
      "         -12.3739,  -7.4671,   8.7141,   5.5978],\n",
      "        [ -8.2490,   6.2090,   2.3522,   4.1812, -12.9602,   4.5227,\n",
      "         -16.4055,  -5.2963, -10.4547,   0.7065],\n",
      "        [ -3.2474,   2.6563,   3.9644,  -1.6775,  -5.1477,  -5.7607,\n",
      "         -11.5832,  -3.6197,  -2.5247,  14.8612],\n",
      "        [ -9.2760,   7.2212,  -7.7722,  -8.9628,  -9.1584,  -0.1134,\n",
      "         -15.1191, -24.4599,  -4.4222,  10.8759],\n",
      "        [-11.0371,   7.5272,   3.6125,   1.1466, -11.4581,   2.2278,\n",
      "          -6.1812,   0.3091,  -6.9827,  10.5150],\n",
      "        [ -1.2125,  -2.1453,  -0.6868,  -7.7888,  -8.7378,   8.7005,\n",
      "          -1.9840, -13.5055,  -8.3207,  11.0286],\n",
      "        [-11.9324,   7.9243,   2.0923,   3.6139, -11.8870,   7.7066,\n",
      "         -17.9336,  -8.5255,  -8.6935,   0.7074],\n",
      "        [-14.9744,   2.9658,   5.3951, -15.2346,  -7.4466,  -0.1178,\n",
      "         -12.3934,   2.1432, -11.4243,   3.3192],\n",
      "        [ -7.4019,   8.9061,  -2.2708,   4.0546, -20.5881,  -3.2624,\n",
      "         -12.6595,  -6.8209,  -4.9270,   6.5193],\n",
      "        [ -0.8943,   7.6517,  10.9554,  -6.2113,  -6.0505,  -2.3705,\n",
      "         -13.0592,  -1.5519,  -3.5829,   5.3077],\n",
      "        [ -1.2998,  13.1773,   9.3261,  -7.4314,  -9.9386,  -6.9472,\n",
      "         -17.9211,  -7.0930,  -9.4504,   1.8560],\n",
      "        [  1.1417,   8.5567,   7.0397,  -0.0653,  -9.0646,   3.7582,\n",
      "         -28.8648, -15.0447,  -5.8724,  -4.7063],\n",
      "        [ -8.4387,   5.4719,   9.3266,  -6.2837, -12.8389,  -3.3015,\n",
      "         -15.3545,  -4.7365,   0.5929,  14.2844],\n",
      "        [  1.1339,   5.9679,   5.9072,  -3.4525,  -6.5181,  -0.2244,\n",
      "         -18.5555, -18.5932,   0.0387,  -3.6219],\n",
      "        [ -6.7788,   4.5591, -10.3537, -10.1167, -12.8467,   9.5792,\n",
      "         -13.6853,  -1.3947,  -6.1261,  19.3389],\n",
      "        [-11.2755,  12.9399,   8.2868, -10.4388, -11.9271,  -7.4284,\n",
      "         -10.5499, -13.5432, -10.5046,   4.4528],\n",
      "        [  0.4880,   1.7425,   4.6246,  -9.4424,  -1.2871,  14.5369,\n",
      "         -14.3551,   0.4612, -12.1279,  12.6758],\n",
      "        [-12.9299,   5.0490,   3.7031,  -8.2112, -16.5043,   3.6625,\n",
      "         -17.4357,   7.6453,  -4.9253,   8.5969],\n",
      "        [ -6.3028,   8.1580,   5.0991,  -6.8360,  -7.2541,  -1.4161,\n",
      "         -17.2845, -11.5466,  -2.2214,  12.7334],\n",
      "        [  0.6015,   5.5239,   2.1329,  -3.8712,  -6.2233,  -2.6721,\n",
      "         -17.3510,  -1.7679,   0.3322,   4.1334],\n",
      "        [-13.5345,   6.4893,   6.9850,  -1.1032,  -9.7472,   3.3926,\n",
      "         -12.2123,   2.6804,  -6.6742,   6.2208],\n",
      "        [ -5.7883,  -5.3612,  -1.5379,  11.7232, -14.1229,   1.2994,\n",
      "         -10.2613,  -3.5548,  -5.9192,   0.7723],\n",
      "        [-10.8092,   5.2703,   8.4272, -10.2412, -15.5534,  -4.2467,\n",
      "         -10.7028,   2.7165,  -6.6529,   3.0545],\n",
      "        [ -5.2797,  10.3775,   9.4085,  -5.6376,  -5.9051,  -0.8567,\n",
      "         -15.8553,  -5.6610,  -6.8544,   1.8324],\n",
      "        [-15.2879,  -1.6496, -11.5905,   1.4808,  -7.5086,   9.1350,\n",
      "         -12.0251, -19.1656,  -2.1314,  16.4343],\n",
      "        [-17.6032,   9.0935,   6.6760,  -1.6640, -10.0075,  10.4919,\n",
      "         -11.2940,   2.2607,  -1.6953,  10.8074],\n",
      "        [-12.7797,  10.0680,   1.3022,  -6.7871,  -0.8430,  -1.1811,\n",
      "         -25.1834, -11.3708,  -9.8414,   5.2283],\n",
      "        [ -1.4263,  -3.5416,  -6.3393,  -8.8910,  -9.7952,  -3.2726,\n",
      "          -4.0017,  -1.7148, -13.8266,   7.6066],\n",
      "        [-14.1270,   4.4417,   1.9359,  -7.5177, -13.6532,   0.8472,\n",
      "         -16.9073,  -2.2582,  -6.0800,   6.2791],\n",
      "        [ -6.0813,   6.2678,   5.4980,  -4.4543, -16.5053,   3.5370,\n",
      "         -14.0199,  -7.7246, -13.6745,   2.7952],\n",
      "        [-10.4045,   2.5845,  -4.4579,  -9.2191,  -8.6849,   1.7110,\n",
      "         -10.2252,  -4.0032,  -2.2188,  10.5614],\n",
      "        [ -5.7537,   9.5516,   4.6157,  -5.3343, -11.3334,  -3.1551,\n",
      "         -16.5727, -15.0985,  -3.8009,  19.4626],\n",
      "        [ -5.5664,  -0.1852,  -5.9929, -11.7437, -14.4943,   4.7449,\n",
      "         -21.1665,  -8.7099,  -6.4468,  16.8736],\n",
      "        [-14.1373,   6.1919,   0.4130,  -1.3840, -14.5220,  11.3957,\n",
      "         -14.1875,  -0.1865,  -6.1801,   7.0732],\n",
      "        [-17.7835,   5.1094,   1.9578,  -2.6549, -10.5531,  10.8097,\n",
      "         -21.3204,  -0.5898, -11.0894,   4.6746],\n",
      "        [ -6.5518,  -2.1236,   7.9490,  -8.6486,  -0.7562,   1.0469,\n",
      "         -17.8695,   0.3151, -15.1799,   2.5169],\n",
      "        [ -8.7343,   5.6115,  -1.6569,   0.1539, -27.4818,  10.1504,\n",
      "         -10.9658,   2.1958, -13.5379,   3.4220],\n",
      "        [ -9.6846,   6.9683,   2.9039,  -0.2265, -23.9297,   3.9930,\n",
      "          -8.7279,  -6.3633,  -3.1848,   5.5703],\n",
      "        [-11.1827,   4.0397,  -3.4432,  -0.6981, -20.0196,   6.2065,\n",
      "         -13.3966, -12.9825,  -5.8611,   3.3065],\n",
      "        [-12.1073,  -0.5013,  -0.2810,  -2.7913,  -4.8396,   9.0915,\n",
      "         -22.0466, -15.8407,  10.6957,   2.5757],\n",
      "        [ -0.5372,   7.5589,  -0.6969,  -3.9899, -16.6337,  -0.7169,\n",
      "         -17.1132, -12.0584,  -2.3360,  16.6802],\n",
      "        [ -8.9080,   3.0494,   8.0244,  -6.0263, -16.2266,  -0.5441,\n",
      "         -12.9346,  -3.9303,  -5.7388,   8.2427],\n",
      "        [-13.6630,  -2.4106,   4.7748,   7.8319, -15.7917,   2.6376,\n",
      "         -14.3055,   1.1543, -12.4984,   4.1391],\n",
      "        [ -1.7803,   9.8265,   1.0454,   0.2198,   0.4418,   4.7721,\n",
      "         -22.3270, -17.9961,  -4.3669,   1.2489],\n",
      "        [-11.0034,  15.1297,   2.7694,  -2.9549, -13.4753,   2.5508,\n",
      "         -11.7284,  -4.7151, -13.2338,  -1.1954],\n",
      "        [ -0.4094,   5.6600,   1.0967,   6.6475, -10.1895,   4.5598,\n",
      "         -19.4937, -14.5959,  -9.8133,   5.5500],\n",
      "        [ -7.6635,   8.4949,  -0.6828,  -5.9867,  -8.8571,  -0.9928,\n",
      "         -20.4229,  -3.4179,  -7.5242,  12.4709],\n",
      "        [-13.4868,   1.0335,   3.0103,  -4.9438,  -8.3276,   1.8145,\n",
      "         -23.2759,  -1.4856,  -3.2302,   5.7043]])\n"
     ]
    }
   ],
   "source": [
    "## Your solution\n",
    "def activation(x):\n",
    "    return 1 / (1 + torch.exp(-x))\n",
    "\n",
    "inputs = images.view(images.shape[0], -1)\n",
    "\n",
    "W1 = torch.randn(784, 256)\n",
    "W2 = torch.randn(256, 10)\n",
    "\n",
    "B1 = torch.randn(256)\n",
    "B2 = torch.randn(10)\n",
    "\n",
    "hidden = activation(torch.mm(inputs, W1) + B1)\n",
    "\n",
    "out = torch.mm(hidden, W2) + B2 # output of your network, should have shape (64,10)\n",
    "print(out)"
   ]
  },
  {
   "cell_type": "markdown",
   "metadata": {},
   "source": [
    "Now we have 10 outputs for our network. We want to pass in an image to our network and get out a probability distribution over the classes that tells us the likely class(es) the image belongs to. Something that looks like this:\n",
    "<img src='assets/image_distribution.png' width=500px>\n",
    "\n",
    "Here we see that the probability for each class is roughly the same. This is representing an untrained network, it hasn't seen any data yet so it just returns a uniform distribution with equal probabilities for each class.\n",
    "\n",
    "To calculate this probability distribution, we often use the [**softmax** function](https://en.wikipedia.org/wiki/Softmax_function). Mathematically this looks like\n",
    "\n",
    "$$\n",
    "\\Large \\sigma(x_i) = \\cfrac{e^{x_i}}{\\sum_k^K{e^{x_k}}}\n",
    "$$\n",
    "\n",
    "What this does is squish each input $x_i$ between 0 and 1 and normalizes the values to give you a proper probability distribution where the probabilites sum up to one.\n",
    "\n",
    "> **Exercise:** Implement a function `softmax` that performs the softmax calculation and returns probability distributions for each example in the batch. Note that you'll need to pay attention to the shapes when doing this. If you have a tensor `a` with shape `(64, 10)` and a tensor `b` with shape `(64,)`, doing `a/b` will give you an error because PyTorch will try to do the division across the columns (called broadcasting) but you'll get a size mismatch. The way to think about this is for each of the 64 examples, you only want to divide by one value, the sum in the denominator. So you need `b` to have a shape of `(64, 1)`. This way PyTorch will divide the 10 values in each row of `a` by the one value in each row of `b`. Pay attention to how you take the sum as well. You'll need to define the `dim` keyword in `torch.sum`. Setting `dim=0` takes the sum across the rows while `dim=1` takes the sum across the columns."
   ]
  },
  {
   "cell_type": "code",
   "execution_count": 11,
   "metadata": {},
   "outputs": [
    {
     "name": "stdout",
     "output_type": "stream",
     "text": [
      "torch.Size([64, 10])\n",
      "tensor([ 1.0000,  1.0000,  1.0000,  1.0000,  1.0000,  1.0000,  1.0000,\n",
      "         1.0000,  1.0000,  1.0000,  1.0000,  1.0000,  1.0000,  1.0000,\n",
      "         1.0000,  1.0000,  1.0000,  1.0000,  1.0000,  1.0000,  1.0000,\n",
      "         1.0000,  1.0000,  1.0000,  1.0000,  1.0000,  1.0000,  1.0000,\n",
      "         1.0000,  1.0000,  1.0000,  1.0000,  1.0000,  1.0000,  1.0000,\n",
      "         1.0000,  1.0000,  1.0000,  1.0000,  1.0000,  1.0000,  1.0000,\n",
      "         1.0000,  1.0000,  1.0000,  1.0000,  1.0000,  1.0000,  1.0000,\n",
      "         1.0000,  1.0000,  1.0000,  1.0000,  1.0000,  1.0000,  1.0000,\n",
      "         1.0000,  1.0000,  1.0000,  1.0000,  1.0000,  1.0000,  1.0000,\n",
      "         1.0000])\n"
     ]
    }
   ],
   "source": [
    "def softmax(x):\n",
    "    ## TODO: Implement the softmax function here\n",
    "    return torch.exp(x) / torch.sum(torch.exp(x), dim = 1).view(-1, 1)\n",
    "\n",
    "# Here, out should be the output of the network in the previous excercise with shape (64,10)\n",
    "probabilities = softmax(out)\n",
    "\n",
    "# Does it have the right shape? Should be (64, 10)\n",
    "print(probabilities.shape)\n",
    "# Does it sum to 1?\n",
    "print(probabilities.sum(dim=1))"
   ]
  },
  {
   "cell_type": "markdown",
   "metadata": {},
   "source": [
    "## Building networks with PyTorch\n",
    "\n",
    "PyTorch provides a module `nn` that makes building networks much simpler. Here I'll show you how to build the same one as above with 784 inputs, 256 hidden units, 10 output units and a softmax output."
   ]
  },
  {
   "cell_type": "code",
   "execution_count": 12,
   "metadata": {},
   "outputs": [],
   "source": [
    "from torch import nn"
   ]
  },
  {
   "cell_type": "code",
   "execution_count": 13,
   "metadata": {},
   "outputs": [],
   "source": [
    "class Network(nn.Module):\n",
    "    def __init__(self):\n",
    "        super().__init__()\n",
    "        \n",
    "        # Inputs to hidden layer linear transformation\n",
    "        self.hidden = nn.Linear(784, 256)\n",
    "        # Output layer, 10 units - one for each digit\n",
    "        self.output = nn.Linear(256, 10)\n",
    "        \n",
    "        # Define sigmoid activation and softmax output \n",
    "        self.sigmoid = nn.Sigmoid()\n",
    "        self.softmax = nn.Softmax(dim=1)\n",
    "        \n",
    "    def forward(self, x):\n",
    "        # Pass the input tensor through each of our operations\n",
    "        x = self.hidden(x)\n",
    "        x = self.sigmoid(x)\n",
    "        x = self.output(x)\n",
    "        x = self.softmax(x)\n",
    "        \n",
    "        return x"
   ]
  },
  {
   "cell_type": "markdown",
   "metadata": {},
   "source": [
    "Let's go through this bit by bit.\n",
    "\n",
    "```python\n",
    "class Network(nn.Module):\n",
    "```\n",
    "\n",
    "Here we're inheriting from `nn.Module`. Combined with `super().__init__()` this creates a class that tracks the architecture and provides a lot of useful methods and attributes. It is mandatory to inherit from `nn.Module` when you're creating a class for your network. The name of the class itself can be anything.\n",
    "\n",
    "```python\n",
    "self.hidden = nn.Linear(784, 256)\n",
    "```\n",
    "\n",
    "This line creates a module for a linear transformation, $x\\mathbf{W} + b$, with 784 inputs and 256 outputs and assigns it to `self.hidden`. The module automatically creates the weight and bias tensors which we'll use in the `forward` method. You can access the weight and bias tensors once the network (`net`) is created with `net.hidden.weight` and `net.hidden.bias`.\n",
    "\n",
    "```python\n",
    "self.output = nn.Linear(256, 10)\n",
    "```\n",
    "\n",
    "Similarly, this creates another linear transformation with 256 inputs and 10 outputs.\n",
    "\n",
    "```python\n",
    "self.sigmoid = nn.Sigmoid()\n",
    "self.softmax = nn.Softmax(dim=1)\n",
    "```\n",
    "\n",
    "Here I defined operations for the sigmoid activation and softmax output. Setting `dim=1` in `nn.Softmax(dim=1)` calculates softmax across the columns.\n",
    "\n",
    "```python\n",
    "def forward(self, x):\n",
    "```\n",
    "\n",
    "PyTorch networks created with `nn.Module` must have a `forward` method defined. It takes in a tensor `x` and passes it through the operations you defined in the `__init__` method.\n",
    "\n",
    "```python\n",
    "x = self.hidden(x)\n",
    "x = self.sigmoid(x)\n",
    "x = self.output(x)\n",
    "x = self.softmax(x)\n",
    "```\n",
    "\n",
    "Here the input tensor `x` is passed through each operation a reassigned to `x`. We can see that the input tensor goes through the hidden layer, then a sigmoid function, then the output layer, and finally the softmax function. It doesn't matter what you name the variables here, as long as the inputs and outputs of the operations match the network architecture you want to build. The order in which you define things in the `__init__` method doesn't matter, but you'll need to sequence the operations correctly in the `forward` method.\n",
    "\n",
    "Now we can create a `Network` object."
   ]
  },
  {
   "cell_type": "code",
   "execution_count": 14,
   "metadata": {},
   "outputs": [
    {
     "data": {
      "text/plain": [
       "Network(\n",
       "  (hidden): Linear(in_features=784, out_features=256, bias=True)\n",
       "  (output): Linear(in_features=256, out_features=10, bias=True)\n",
       "  (sigmoid): Sigmoid()\n",
       "  (softmax): Softmax()\n",
       ")"
      ]
     },
     "execution_count": 14,
     "metadata": {},
     "output_type": "execute_result"
    }
   ],
   "source": [
    "# Create the network and look at it's text representation\n",
    "model = Network()\n",
    "model"
   ]
  },
  {
   "cell_type": "markdown",
   "metadata": {},
   "source": [
    "You can define the network somewhat more concisely and clearly using the `torch.nn.functional` module. This is the most common way you'll see networks defined as many operations are simple element-wise functions. We normally import this module as `F`, `import torch.nn.functional as F`."
   ]
  },
  {
   "cell_type": "code",
   "execution_count": 15,
   "metadata": {},
   "outputs": [],
   "source": [
    "import torch.nn.functional as F\n",
    "\n",
    "class Network(nn.Module):\n",
    "    def __init__(self):\n",
    "        super().__init__()\n",
    "        # Inputs to hidden layer linear transformation\n",
    "        self.hidden = nn.Linear(784, 256)\n",
    "        # Output layer, 10 units - one for each digit\n",
    "        self.output = nn.Linear(256, 10)\n",
    "        \n",
    "    def forward(self, x):\n",
    "        # Hidden layer with sigmoid activation\n",
    "        x = F.sigmoid(self.hidden(x))\n",
    "        # Output layer with softmax activation\n",
    "        x = F.softmax(self.output(x), dim=1)\n",
    "        \n",
    "        return x"
   ]
  },
  {
   "cell_type": "markdown",
   "metadata": {},
   "source": [
    "### Activation functions\n",
    "\n",
    "So far we've only been looking at the softmax activation, but in general any function can be used as an activation function. The only requirement is that for a network to approximate a non-linear function, the activation functions must be non-linear. Here are a few more examples of common activation functions: Tanh (hyperbolic tangent), and ReLU (rectified linear unit).\n",
    "\n",
    "<img src=\"assets/activation.png\" width=700px>\n",
    "\n",
    "In practice, the ReLU function is used almost exclusively as the activation function for hidden layers."
   ]
  },
  {
   "cell_type": "markdown",
   "metadata": {},
   "source": [
    "### Your Turn to Build a Network\n",
    "\n",
    "<img src=\"assets/mlp_mnist.png\" width=600px>\n",
    "\n",
    "> **Exercise:** Create a network with 784 input units, a hidden layer with 128 units and a ReLU activation, then a hidden layer with 64 units and a ReLU activation, and finally an output layer with a softmax activation as shown above. You can use a ReLU activation with the `nn.ReLU` module or `F.relu` function."
   ]
  },
  {
   "cell_type": "code",
   "execution_count": 18,
   "metadata": {
    "scrolled": true
   },
   "outputs": [
    {
     "data": {
      "text/plain": [
       "Network(\n",
       "  (fc1): Linear(in_features=784, out_features=128, bias=True)\n",
       "  (fc2): Linear(in_features=128, out_features=64, bias=True)\n",
       "  (fc3): Linear(in_features=64, out_features=10, bias=True)\n",
       ")"
      ]
     },
     "execution_count": 18,
     "metadata": {},
     "output_type": "execute_result"
    }
   ],
   "source": [
    "## Your solution here\n",
    "class Network(nn.Module):\n",
    "    def __init__(self):\n",
    "        super().__init__()\n",
    "        # Defining the layers, 128, 64, 10 units each\n",
    "        self.fc1 = nn.Linear(784, 128)\n",
    "        self.fc2 = nn.Linear(128, 64)\n",
    "        # Output layer, 10 units - one for each digit\n",
    "        self.fc3 = nn.Linear(64, 10)\n",
    "        \n",
    "    def forward(self, x):\n",
    "        ''' Forward pass through the network, returns the output logits '''\n",
    "        \n",
    "        x = self.fc1(x)\n",
    "        x = F.relu(x)\n",
    "        x = self.fc2(x)\n",
    "        x = F.relu(x)\n",
    "        x = self.fc3(x)\n",
    "        x = F.softmax(x, dim=1)\n",
    "        \n",
    "        return x\n",
    "\n",
    "model = Network()\n",
    "model"
   ]
  },
  {
   "cell_type": "markdown",
   "metadata": {},
   "source": [
    "### Initializing weights and biases\n",
    "\n",
    "The weights and such are automatically initialized for you, but it's possible to customize how they are initialized. The weights and biases are tensors attached to the layer you defined, you can get them with `model.fc1.weight` for instance."
   ]
  },
  {
   "cell_type": "code",
   "execution_count": 19,
   "metadata": {},
   "outputs": [
    {
     "name": "stdout",
     "output_type": "stream",
     "text": [
      "Parameter containing:\n",
      "tensor([[-2.9614e-02,  3.4532e-02,  1.3509e-03,  ...,  2.2661e-02,\n",
      "         -8.2121e-03, -1.9772e-02],\n",
      "        [ 3.2928e-02,  3.6428e-03, -3.2226e-02,  ..., -3.3548e-03,\n",
      "         -6.4547e-03, -8.8464e-03],\n",
      "        [ 1.4060e-02, -3.0205e-02, -2.1426e-02,  ..., -1.4949e-02,\n",
      "          2.1550e-02, -2.6418e-02],\n",
      "        ...,\n",
      "        [-3.2431e-02,  6.5949e-03, -2.5585e-02,  ...,  2.0765e-02,\n",
      "         -2.0794e-02,  3.2968e-02],\n",
      "        [-8.7472e-03, -2.3113e-02,  3.4477e-02,  ..., -3.5468e-03,\n",
      "          2.3079e-02, -2.8892e-02],\n",
      "        [ 1.1506e-02,  2.0415e-02, -4.3953e-03,  ...,  1.4432e-02,\n",
      "         -5.0120e-03,  1.9143e-02]])\n",
      "Parameter containing:\n",
      "tensor(1.00000e-02 *\n",
      "       [ 2.5688,  3.4019, -0.2817,  3.4454,  2.7677,  1.3627, -1.0092,\n",
      "        -0.1779, -0.9961,  1.1610,  0.9064,  1.3436,  1.6731,  1.3938,\n",
      "         2.3907,  1.3821,  1.3135, -2.7899,  0.7511, -0.6272,  2.5230,\n",
      "        -0.3710, -2.3281, -1.6741,  0.2741, -2.9370,  3.2146, -1.2489,\n",
      "         2.8810, -3.0855, -1.7349, -2.4020,  1.1648,  2.4271, -1.9122,\n",
      "         0.8214,  3.3830, -0.8022, -3.0640, -0.6172,  0.5769,  2.6082,\n",
      "        -0.5163,  0.6279,  2.2197,  0.4255,  2.9159,  1.2870,  1.5477,\n",
      "        -0.3840, -1.8383,  2.5755,  0.5463,  0.8601,  0.5257, -0.2467,\n",
      "         0.0439, -1.3832, -2.8650,  2.9679, -0.7263,  3.1344, -1.0998,\n",
      "         3.5172,  2.6136, -2.0315, -2.3484,  0.6955, -2.3342,  0.8300,\n",
      "        -1.3878, -1.0085,  0.8391, -1.7860, -2.5113, -1.6020, -3.5199,\n",
      "        -2.9308, -3.4075, -3.4939, -2.0507, -0.0133, -0.3258, -0.4852,\n",
      "         1.9189,  0.2123,  2.4687,  1.8195,  1.4703, -1.7950,  1.9366,\n",
      "        -1.3642,  0.8700,  1.6522, -2.2759,  2.2504,  2.8473,  1.8874,\n",
      "         2.8930,  0.9147,  2.4731,  0.8475,  2.7433, -0.2237, -3.1963,\n",
      "        -1.2063,  3.4255,  0.9282, -0.8870,  2.4953, -3.5283, -1.9633,\n",
      "         2.3885, -2.5264,  0.1021,  3.2777,  3.2231,  1.8613,  2.5317,\n",
      "        -1.1217, -0.5378,  0.2477,  2.1121,  3.5507, -2.7376,  3.2798,\n",
      "         2.4429,  0.8267])\n"
     ]
    }
   ],
   "source": [
    "print(model.fc1.weight)\n",
    "print(model.fc1.bias)"
   ]
  },
  {
   "cell_type": "markdown",
   "metadata": {},
   "source": [
    "For custom initialization, we want to modify these tensors in place. These are actually autograd *Variables*, so we need to get back the actual tensors with `model.fc1.weight.data`. Once we have the tensors, we can fill them with zeros (for biases) or random normal values."
   ]
  },
  {
   "cell_type": "code",
   "execution_count": 20,
   "metadata": {},
   "outputs": [
    {
     "data": {
      "text/plain": [
       "tensor([ 0.,  0.,  0.,  0.,  0.,  0.,  0.,  0.,  0.,  0.,  0.,  0.,\n",
       "         0.,  0.,  0.,  0.,  0.,  0.,  0.,  0.,  0.,  0.,  0.,  0.,\n",
       "         0.,  0.,  0.,  0.,  0.,  0.,  0.,  0.,  0.,  0.,  0.,  0.,\n",
       "         0.,  0.,  0.,  0.,  0.,  0.,  0.,  0.,  0.,  0.,  0.,  0.,\n",
       "         0.,  0.,  0.,  0.,  0.,  0.,  0.,  0.,  0.,  0.,  0.,  0.,\n",
       "         0.,  0.,  0.,  0.,  0.,  0.,  0.,  0.,  0.,  0.,  0.,  0.,\n",
       "         0.,  0.,  0.,  0.,  0.,  0.,  0.,  0.,  0.,  0.,  0.,  0.,\n",
       "         0.,  0.,  0.,  0.,  0.,  0.,  0.,  0.,  0.,  0.,  0.,  0.,\n",
       "         0.,  0.,  0.,  0.,  0.,  0.,  0.,  0.,  0.,  0.,  0.,  0.,\n",
       "         0.,  0.,  0.,  0.,  0.,  0.,  0.,  0.,  0.,  0.,  0.,  0.,\n",
       "         0.,  0.,  0.,  0.,  0.,  0.,  0.,  0.])"
      ]
     },
     "execution_count": 20,
     "metadata": {},
     "output_type": "execute_result"
    }
   ],
   "source": [
    "# Set biases to all zeros\n",
    "model.fc1.bias.data.fill_(0)"
   ]
  },
  {
   "cell_type": "code",
   "execution_count": 21,
   "metadata": {},
   "outputs": [
    {
     "data": {
      "text/plain": [
       "tensor([[-1.2397e-02,  1.3555e-02,  2.1273e-04,  ...,  2.0110e-02,\n",
       "          7.5047e-03,  1.1525e-02],\n",
       "        [ 2.1690e-03, -1.0049e-02, -1.5725e-02,  ...,  1.6899e-02,\n",
       "          5.7162e-03, -4.0150e-03],\n",
       "        [ 1.3308e-02,  3.9137e-03,  1.2849e-02,  ..., -8.1488e-05,\n",
       "         -8.2375e-03,  7.3943e-04],\n",
       "        ...,\n",
       "        [ 4.9764e-03, -1.8121e-03, -6.3310e-03,  ..., -1.0361e-02,\n",
       "         -3.0188e-03, -2.0568e-03],\n",
       "        [-7.3499e-03, -1.4231e-02,  1.3254e-02,  ..., -7.1329e-03,\n",
       "          3.9654e-04,  2.3687e-04],\n",
       "        [ 7.5910e-03,  3.8627e-03, -1.1819e-02,  ...,  1.2245e-02,\n",
       "         -3.5473e-03, -1.0565e-02]])"
      ]
     },
     "execution_count": 21,
     "metadata": {},
     "output_type": "execute_result"
    }
   ],
   "source": [
    "# sample from random normal with standard dev = 0.01\n",
    "model.fc1.weight.data.normal_(std=0.01)"
   ]
  },
  {
   "cell_type": "markdown",
   "metadata": {},
   "source": [
    "### Forward pass\n",
    "\n",
    "Now that we have a network, let's see what happens when we pass in an image."
   ]
  },
  {
   "cell_type": "code",
   "execution_count": 22,
   "metadata": {},
   "outputs": [
    {
     "data": {
      "image/png": "[encoded data removed]",
      "text/plain": [
       "<matplotlib.figure.Figure at 0x7f30f2a2f908>"
      ]
     },
     "metadata": {
      "image/png": {
       "height": 224,
       "width": 423
      },
      "needs_background": "light"
     },
     "output_type": "display_data"
    }
   ],
   "source": [
    "# Grab some data \n",
    "dataiter = iter(trainloader)\n",
    "images, labels = dataiter.next()\n",
    "\n",
    "# Resize images into a 1D vector, new shape is (batch size, color channels, image pixels) \n",
    "images.resize_(64, 1, 784)\n",
    "# or images.resize_(images.shape[0], 1, 784) to automatically get batch size\n",
    "\n",
    "# Forward pass through the network\n",
    "img_idx = 0\n",
    "ps = model.forward(images[img_idx,:])\n",
    "\n",
    "img = images[img_idx]\n",
    "helper.view_classify(img.view(1, 28, 28), ps)"
   ]
  },
  {
   "cell_type": "markdown",
   "metadata": {},
   "source": [
    "As you can see above, our network has basically no idea what this digit is. It's because we haven't trained it yet, all the weights are random!\n",
    "\n",
    "### Using `nn.Sequential`\n",
    "\n",
    "PyTorch provides a convenient way to build networks like this where a tensor is passed sequentially through operations, `nn.Sequential` ([documentation](https://pytorch.org/docs/master/nn.html#torch.nn.Sequential)). Using this to build the equivalent network:"
   ]
  },
  {
   "cell_type": "code",
   "execution_count": 23,
   "metadata": {},
   "outputs": [
    {
     "name": "stdout",
     "output_type": "stream",
     "text": [
      "Sequential(\n",
      "  (0): Linear(in_features=784, out_features=128, bias=True)\n",
      "  (1): ReLU()\n",
      "  (2): Linear(in_features=128, out_features=64, bias=True)\n",
      "  (3): ReLU()\n",
      "  (4): Linear(in_features=64, out_features=10, bias=True)\n",
      "  (5): Softmax()\n",
      ")\n"
     ]
    },
    {
     "data": {
      "image/png": "[encoded data removed]",
      "text/plain": [
       "<matplotlib.figure.Figure at 0x7f30e92f1128>"
      ]
     },
     "metadata": {
      "image/png": {
       "height": 224,
       "width": 423
      },
      "needs_background": "light"
     },
     "output_type": "display_data"
    }
   ],
   "source": [
    "# Hyperparameters for our network\n",
    "input_size = 784\n",
    "hidden_sizes = [128, 64]\n",
    "output_size = 10\n",
    "\n",
    "# Build a feed-forward network\n",
    "model = nn.Sequential(nn.Linear(input_size, hidden_sizes[0]),\n",
    "                      nn.ReLU(),\n",
    "                      nn.Linear(hidden_sizes[0], hidden_sizes[1]),\n",
    "                      nn.ReLU(),\n",
    "                      nn.Linear(hidden_sizes[1], output_size),\n",
    "                      nn.Softmax(dim=1))\n",
    "print(model)\n",
    "\n",
    "# Forward pass through the network and display output\n",
    "images, labels = next(iter(trainloader))\n",
    "images.resize_(images.shape[0], 1, 784)\n",
    "ps = model.forward(images[0,:])\n",
    "helper.view_classify(images[0].view(1, 28, 28), ps)"
   ]
  },
  {
   "cell_type": "markdown",
   "metadata": {},
   "source": [
    "Here our model is the same as before: 784 input units, a hidden layer with 128 units, ReLU activation, 64 unit hidden layer, another ReLU, then the output layer with 10 units, and the softmax output.\n",
    "\n",
    "The operations are availble by passing in the appropriate index. For example, if you want to get first Linear operation and look at the weights, you'd use `model[0]`."
   ]
  },
  {
   "cell_type": "code",
   "execution_count": 24,
   "metadata": {},
   "outputs": [
    {
     "name": "stdout",
     "output_type": "stream",
     "text": [
      "Linear(in_features=784, out_features=128, bias=True)\n"
     ]
    },
    {
     "data": {
      "text/plain": [
       "Parameter containing:\n",
       "tensor([[-2.2125e-02,  1.1937e-02, -9.5684e-03,  ..., -2.2670e-02,\n",
       "          2.5170e-03,  2.6871e-02],\n",
       "        [-2.4347e-02, -1.7957e-02,  2.4609e-02,  ..., -1.2006e-02,\n",
       "         -1.3680e-02,  1.0927e-02],\n",
       "        [-3.3051e-02, -3.8577e-03, -2.2708e-02,  ..., -2.4399e-02,\n",
       "         -1.9703e-02, -3.2802e-02],\n",
       "        ...,\n",
       "        [-2.9177e-02,  1.0577e-02, -2.1155e-02,  ..., -3.1440e-02,\n",
       "          2.5923e-02, -2.3183e-02],\n",
       "        [-1.0789e-02, -8.8888e-03,  2.0530e-03,  ...,  2.6480e-03,\n",
       "         -3.0130e-02, -2.6070e-02],\n",
       "        [ 2.3366e-02, -9.6345e-03,  2.2381e-02,  ..., -6.9690e-03,\n",
       "         -2.7437e-02, -2.6455e-02]])"
      ]
     },
     "execution_count": 24,
     "metadata": {},
     "output_type": "execute_result"
    }
   ],
   "source": [
    "print(model[0])\n",
    "model[0].weight"
   ]
  },
  {
   "cell_type": "markdown",
   "metadata": {},
   "source": [
    "You can also pass in an `OrderedDict` to name the individual layers and operations, instead of using incremental integers. Note that dictionary keys must be unique, so _each operation must have a different name_."
   ]
  },
  {
   "cell_type": "code",
   "execution_count": 25,
   "metadata": {},
   "outputs": [
    {
     "data": {
      "text/plain": [
       "Sequential(\n",
       "  (fc1): Linear(in_features=784, out_features=128, bias=True)\n",
       "  (relu1): ReLU()\n",
       "  (fc2): Linear(in_features=128, out_features=64, bias=True)\n",
       "  (relu2): ReLU()\n",
       "  (output): Linear(in_features=64, out_features=10, bias=True)\n",
       "  (softmax): Softmax()\n",
       ")"
      ]
     },
     "execution_count": 25,
     "metadata": {},
     "output_type": "execute_result"
    }
   ],
   "source": [
    "from collections import OrderedDict\n",
    "model = nn.Sequential(OrderedDict([\n",
    "                      ('fc1', nn.Linear(input_size, hidden_sizes[0])),\n",
    "                      ('relu1', nn.ReLU()),\n",
    "                      ('fc2', nn.Linear(hidden_sizes[0], hidden_sizes[1])),\n",
    "                      ('relu2', nn.ReLU()),\n",
    "                      ('output', nn.Linear(hidden_sizes[1], output_size)),\n",
    "                      ('softmax', nn.Softmax(dim=1))]))\n",
    "model"
   ]
  },
  {
   "cell_type": "markdown",
   "metadata": {},
   "source": [
    "Now you can access layers either by integer or the name"
   ]
  },
  {
   "cell_type": "code",
   "execution_count": 26,
   "metadata": {},
   "outputs": [
    {
     "name": "stdout",
     "output_type": "stream",
     "text": [
      "Linear(in_features=784, out_features=128, bias=True)\n",
      "Linear(in_features=784, out_features=128, bias=True)\n"
     ]
    }
   ],
   "source": [
    "print(model[0])\n",
    "print(model.fc1)"
   ]
  },
  {
   "cell_type": "markdown",
   "metadata": {},
   "source": [
    "In the next notebook, we'll see how we can train a neural network to accuractly predict the numbers appearing in the MNIST images."
   ]
  }
 ],
 "metadata": {
  "kernelspec": {
   "display_name": "Python 3",
   "language": "python",
   "name": "python3"
  },
  "language_info": {
   "codemirror_mode": {
    "name": "ipython",
    "version": 3
   },
   "file_extension": ".py",
   "mimetype": "text/x-python",
   "name": "python",
   "nbconvert_exporter": "python",
   "pygments_lexer": "ipython3",
   "version": "3.6.3"
  }
 },
 "nbformat": 4,
 "nbformat_minor": 2
}
